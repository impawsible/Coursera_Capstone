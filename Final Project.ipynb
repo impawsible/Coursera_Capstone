{
    "cells": [
        {
            "cell_type": "markdown",
            "metadata": {
                "collapsed": true
            },
            "source": "# Final Project"
        },
        {
            "cell_type": "markdown",
            "metadata": {},
            "source": "#### The Plan\nYou're planning an evening out on the town with friends. You would rather your activities be nearby each other so you only have to park/take the bus/subway once, then walk to each location. You need to find a cluster of bars/restaurants/activities to do in one area with a set distance. You could use Google and attempt to make your own path, but wouldn't it be easier if you could just pick a starting point, say the activities you'd like to do, and a max walking distance, then get a map with all the points on it?\n\nWe will use the Foursquare data to give a demonstration of this for the Tulsa, Oklahoma area (limiting the data size that we pull for this example). We will use the venue category to determine the activities, the latitude and longitude to determine distance, and  "
        },
        {
            "cell_type": "code",
            "execution_count": null,
            "metadata": {},
            "outputs": [],
            "source": ""
        }
    ],
    "metadata": {
        "kernelspec": {
            "display_name": "Python 3.6",
            "language": "python",
            "name": "python3"
        },
        "language_info": {
            "codemirror_mode": {
                "name": "ipython",
                "version": 3
            },
            "file_extension": ".py",
            "mimetype": "text/x-python",
            "name": "python",
            "nbconvert_exporter": "python",
            "pygments_lexer": "ipython3",
            "version": "3.6.9"
        }
    },
    "nbformat": 4,
    "nbformat_minor": 1
}